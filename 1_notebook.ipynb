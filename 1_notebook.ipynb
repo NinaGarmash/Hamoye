{
 "cells": [
  {
   "cell_type": "code",
   "execution_count": 6,
   "id": "67af0105-3e4f-4e04-8b3e-425bac50a787",
   "metadata": {},
   "outputs": [],
   "source": [
    "def square (x):\n",
    "    result= x * x;\n",
    "    return result"
   ]
  },
  {
   "cell_type": "code",
   "execution_count": 8,
   "id": "8f047d2b-148f-4b0b-ae61-46be2af4da31",
   "metadata": {},
   "outputs": [
    {
     "data": {
      "text/plain": [
       "64"
      ]
     },
     "execution_count": 8,
     "metadata": {},
     "output_type": "execute_result"
    }
   ],
   "source": [
    "square(8)"
   ]
  },
  {
   "cell_type": "code",
   "execution_count": 11,
   "id": "d100d43c-369b-4fc2-991e-bf03685b552a",
   "metadata": {},
   "outputs": [],
   "source": [
    "def square(x):\n",
    "    result= x * x;\n",
    "    return result"
   ]
  },
  {
   "cell_type": "code",
   "execution_count": 12,
   "id": "b949fd8f-49a1-4bc9-995e-db69af0da7c1",
   "metadata": {},
   "outputs": [
    {
     "data": {
      "text/plain": [
       "81"
      ]
     },
     "execution_count": 12,
     "metadata": {},
     "output_type": "execute_result"
    }
   ],
   "source": [
    "square(9)"
   ]
  },
  {
   "cell_type": "code",
   "execution_count": null,
   "id": "08670559-b738-4bc9-8b99-48146f4ee002",
   "metadata": {},
   "outputs": [],
   "source": []
  }
 ],
 "metadata": {
  "kernelspec": {
   "display_name": "Python 3 (ipykernel)",
   "language": "python",
   "name": "python3"
  },
  "language_info": {
   "codemirror_mode": {
    "name": "ipython",
    "version": 3
   },
   "file_extension": ".py",
   "mimetype": "text/x-python",
   "name": "python",
   "nbconvert_exporter": "python",
   "pygments_lexer": "ipython3",
   "version": "3.11.7"
  }
 },
 "nbformat": 4,
 "nbformat_minor": 5
}
